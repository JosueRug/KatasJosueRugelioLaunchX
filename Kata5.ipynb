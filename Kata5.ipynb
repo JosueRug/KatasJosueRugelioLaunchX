{
 "cells": [
  {
   "cell_type": "markdown",
   "metadata": {},
   "source": [
    "Ejercicio 1: Utilizar operadores aritmeticos"
   ]
  },
  {
   "cell_type": "code",
   "execution_count": 6,
   "metadata": {},
   "outputs": [
    {
     "name": "stdout",
     "output_type": "stream",
     "text": [
      "628949330 km\n",
      "390577533.93 millas\n"
     ]
    }
   ],
   "source": [
    "distanciaTierra =  149597870\n",
    "distanciaJupiter = 778547200\n",
    "\n",
    "distanciaplanetas= (distanciaJupiter-distanciaTierra)\n",
    "print (str(distanciaplanetas) + ' km')\n",
    "\n",
    "distanciaplanetas= (distanciaJupiter-distanciaTierra)*(0.621)\n",
    "print (str(distanciaplanetas) + ' millas')"
   ]
  },
  {
   "cell_type": "markdown",
   "metadata": {},
   "source": [
    "Ejercicio 2"
   ]
  },
  {
   "cell_type": "code",
   "execution_count": null,
   "metadata": {},
   "outputs": [],
   "source": [
    "primerplaneta = input ('Introduzca la distancia del sol para el primer planeta en km: ')\n",
    "segundoplaneta = input ('Introduzca la distancia del sol para el segundo planeta en km: ')"
   ]
  },
  {
   "cell_type": "code",
   "execution_count": null,
   "metadata": {},
   "outputs": [],
   "source": [
    "primerplaneta = int(primerplaneta)\n",
    "segundoplaneta = int (segundoplaneta)"
   ]
  },
  {
   "cell_type": "code",
   "execution_count": null,
   "metadata": {},
   "outputs": [],
   "source": [
    "distancia_km = segundoplaneta - primerplaneta\n",
    "print (distancia_km)\n",
    "\n",
    "distancia_millas = distancia_km*0.621\n",
    "print (abs(distancia_millas))"
   ]
  }
 ],
 "metadata": {
  "interpreter": {
   "hash": "30bda1f18af4736aa42c19158f55f6f06465ef580b2aeaf6a5527137a8e0418a"
  },
  "kernelspec": {
   "display_name": "Python 3.9.10 64-bit (windows store)",
   "language": "python",
   "name": "python3"
  },
  "language_info": {
   "codemirror_mode": {
    "name": "ipython",
    "version": 3
   },
   "file_extension": ".py",
   "mimetype": "text/x-python",
   "name": "python",
   "nbconvert_exporter": "python",
   "pygments_lexer": "ipython3",
   "version": "3.9.10"
  },
  "orig_nbformat": 4
 },
 "nbformat": 4,
 "nbformat_minor": 2
}
