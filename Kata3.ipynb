{
 "cells": [
  {
   "cell_type": "markdown",
   "metadata": {},
   "source": [
    "Ejercicio 1 (if/else)"
   ]
  },
  {
   "cell_type": "code",
   "execution_count": 5,
   "metadata": {},
   "outputs": [
    {
     "name": "stdout",
     "output_type": "stream",
     "text": [
      "Advertencia, hay un asteroide cerca de la Tierra a gran velocidad\n"
     ]
    }
   ],
   "source": [
    "asteroide = 49\n",
    "if asteroide > 25:\n",
    "    print('Advertencia, hay un asteroide acercandose a la Tierra a gran velocidad')\n",
    "else:\n",
    "    print('Todo seguro')"
   ]
  },
  {
   "cell_type": "markdown",
   "metadata": {},
   "source": [
    "Ejercicio 2 (if/else/elif)"
   ]
  },
  {
   "cell_type": "code",
   "execution_count": 11,
   "metadata": {},
   "outputs": [
    {
     "name": "stdout",
     "output_type": "stream",
     "text": [
      "No se ve alguna luz en el cielo en estos momentos\n"
     ]
    }
   ],
   "source": [
    "asteroide = 19\n",
    "if asteroide > 20:\n",
    "    print ('Hay una luz en el cielo visible desde la Tierra')\n",
    "elif asteroide == 20:\n",
    "    print ('Hay una luz en el cielo visible desde la Tierra')\n",
    "else:\n",
    "    print ('No se ve alguna luz en el cielo en estos momentos')\n"
   ]
  },
  {
   "cell_type": "markdown",
   "metadata": {},
   "source": [
    "Ejercicio 3 (and/or)"
   ]
  },
  {
   "cell_type": "code",
   "execution_count": 14,
   "metadata": {},
   "outputs": [
    {
     "name": "stdout",
     "output_type": "stream",
     "text": [
      "PELIGRO. Se acerca un gran asteroide a alta velocidad\n"
     ]
    }
   ],
   "source": [
    "tamaño_ast = 35\n",
    "velocidad_ast = 30\n",
    "if tamaño_ast > 25 and velocidad_ast > 25:\n",
    "    print (\"PELIGRO. Se acerca un gran asteroide a alta velocidad\")\n",
    "elif velocidad_ast > 20:\n",
    "    print (\"Hay una luz en el cielo visible desde la Tierra\")    \n",
    "elif tamaño_ast < 25:\n",
    "    print (\"Todo seguro\")\n",
    "elif velocidad_ast < 25:\n",
    "    print (\"Todo seguro\")\n",
    "\n"
   ]
  }
 ],
 "metadata": {
  "interpreter": {
   "hash": "30bda1f18af4736aa42c19158f55f6f06465ef580b2aeaf6a5527137a8e0418a"
  },
  "kernelspec": {
   "display_name": "Python 3.9.10 64-bit (windows store)",
   "language": "python",
   "name": "python3"
  },
  "language_info": {
   "codemirror_mode": {
    "name": "ipython",
    "version": 3
   },
   "file_extension": ".py",
   "mimetype": "text/x-python",
   "name": "python",
   "nbconvert_exporter": "python",
   "pygments_lexer": "ipython3",
   "version": "3.9.10"
  },
  "orig_nbformat": 4
 },
 "nbformat": 4,
 "nbformat_minor": 2
}
